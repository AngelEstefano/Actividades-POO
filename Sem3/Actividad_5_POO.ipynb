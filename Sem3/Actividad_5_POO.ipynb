{
  "nbformat": 4,
  "nbformat_minor": 0,
  "metadata": {
    "colab": {
      "provenance": [],
      "authorship_tag": "ABX9TyME5RFeovH25YzHlW8WSsvK",
      "include_colab_link": true
    },
    "kernelspec": {
      "name": "python3",
      "display_name": "Python 3"
    },
    "language_info": {
      "name": "python"
    }
  },
  "cells": [
    {
      "cell_type": "markdown",
      "metadata": {
        "id": "view-in-github",
        "colab_type": "text"
      },
      "source": [
        "<a href=\"https://colab.research.google.com/github/AngelEstefano/Actividades-POO/blob/main/Sem3/Actividad_5_POO.ipynb\" target=\"_parent\"><img src=\"https://colab.research.google.com/assets/colab-badge.svg\" alt=\"Open In Colab\"/></a>"
      ]
    },
    {
      "cell_type": "code",
      "execution_count": null,
      "metadata": {
        "colab": {
          "base_uri": "https://localhost:8080/"
        },
        "id": "oZkz1w0JRKn2",
        "outputId": "677a39c7-5912-425f-dfc8-4689c8d5d791"
      },
      "outputs": [
        {
          "output_type": "stream",
          "name": "stdout",
          "text": [
            "Escribe tu nombre completo:\n",
            "Angel Estefano Velasco Lozano\n",
            "\n",
            "El nombre se ha registrado correctamente\n",
            "\n",
            "Escribe tu edad:\n",
            "20\n",
            "\n",
            "La edad se ha registrado correctamente\n",
            "\n",
            "Escribe tu email:\n",
            "angel.velasco1159@alumnos.udg.mx\n",
            "\n",
            "El email se ha registrado correctamente\n",
            "\n",
            "Escribe tu contraseña:\n",
            "123456789abc\n",
            "\n",
            "La contraseña se ha registrado correctamente\n",
            "\n",
            "--- Informacion del Usuario ---\n",
            "Angel Estefano Velasco Lozano\n",
            "20\n",
            "angel.velasco1159@alumnos.udg.mx\n",
            "123456789abc\n"
          ]
        }
      ],
      "source": [
        "import re\n",
        "\n",
        "# Clase Login\n",
        "class user:\n",
        "  def __init__(self):\n",
        "    self.users = []\n",
        "\n",
        "  # Funcion para asegurar el nombre de Usuario\n",
        "  def nombre(self, name):\n",
        "    flag = True\n",
        "    pattern = r\"^[a-zA-Z\\s]+$\" # El patron permite valores del abecedario tanto en minusculas como mayusculas ademas de espacios\n",
        "    while flag:\n",
        "      if re.match(pattern, name):\n",
        "        self.users.append(name)\n",
        "        print(\"\\nEl nombre se ha registrado correctamente\\n\")\n",
        "        flag = False\n",
        "      else:\n",
        "        print(\"\\n# El nombre solo puede incluir letras y espacios #\\n\")\n",
        "        print(\"Intentelo otra vez\")\n",
        "        name = input(\"Escribe tu nombre completo:\\n\")\n",
        "\n",
        "  # Funcion para asegurar la edad del Usuario\n",
        "  def edad(self, age):\n",
        "    flag = True\n",
        "    pattern = r\"^(100|[1-9]?[0-9])$\" # El patron permite numeros dentro del rango de 0 a 100\n",
        "    while flag:\n",
        "      if re.match(pattern, age):\n",
        "        self.users.append(age)\n",
        "        print(\"\\nLa edad se ha registrado correctamente\\n\")\n",
        "        flag = False\n",
        "      else:\n",
        "        print(\"\\n# La edad solo puede incluir numeros sin espacios #\\n\")\n",
        "        print(\"Intentelo otra vez\")\n",
        "        age = input(\"Escribe tu edad:\\n\")\n",
        "\n",
        "  # Funcion para asegurar el correo del Usuario\n",
        "  def correo(self, email):\n",
        "    flag = True\n",
        "    pattern = r'^[a-zA-Z0-9._%+-]+@[a-zA-Z0-9.-]+\\.[a-zA-Z]{2,}$' # El patron permite el nombre de usuario con abecedario, numeros y/0 carecteres especiales, ademas del arroba y un dominio\n",
        "    while flag:\n",
        "      if re.match(pattern, email):\n",
        "        self.users.append(email)\n",
        "        print(\"\\nEl email se ha registrado correctamente\\n\")\n",
        "        flag = False\n",
        "      else:\n",
        "        print(\"\\n# El email no esta correcto #\\n\")\n",
        "        print(\"Intentelo otra vez\")\n",
        "        email = input(\"Escribe tu email:\\n\")\n",
        "\n",
        "  # Funcion para asegurar la contraseña del Usuario\n",
        "  def contrasena(self, password):\n",
        "    flag = True\n",
        "    pattern = r\"^[a-zA-Z0-9@#$%^&+=!]+$\" # El patron permite cualquier contraseña comun con al menos un caracter\n",
        "    while flag:\n",
        "      if re.match(pattern, password):\n",
        "        self.users.append(password)\n",
        "        print(\"\\nLa contraseña se ha registrado correctamente\\n\")\n",
        "        flag = False\n",
        "      else:\n",
        "        print(\"\\n# La contraseña es invalida #\\n\")\n",
        "        print(\"Intentelo otra vez\")\n",
        "        email = input(\"Escribe tu contraseña:\\n\")\n",
        "\n",
        "# Funcion para desplegar la informacion del Usuario\n",
        "def display_info(informacion):\n",
        "  print(\"--- Informacion del Usuario ---\")\n",
        "  for x in usuario.users:\n",
        "    print(f\"{x}\")\n",
        "\n",
        "# Instancia de un objeto para el Usuario\n",
        "usuario = user()\n",
        "\n",
        "# Llamar las funciones dentro de la clase\n",
        "usuario.nombre(input(\"Escribe tu nombre completo:\\n\"))\n",
        "usuario.edad(input(\"Escribe tu edad:\\n\"))\n",
        "usuario.correo(input(\"Escribe tu email:\\n\"))\n",
        "usuario.contrasena(input(\"Escribe tu contraseña:\\n\"))\n",
        "\n",
        "# Mostrar la informacion registrada del usuario\n",
        "display_info(usuario)"
      ]
    }
  ]
}